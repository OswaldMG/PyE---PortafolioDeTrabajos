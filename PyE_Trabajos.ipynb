{
  "nbformat": 4,
  "nbformat_minor": 0,
  "metadata": {
    "colab": {
      "provenance": [],
      "authorship_tag": "ABX9TyN9lTOkdbpGDTmN8k/b27Id",
      "include_colab_link": true
    },
    "kernelspec": {
      "name": "python3",
      "display_name": "Python 3"
    },
    "language_info": {
      "name": "python"
    }
  },
  "cells": [
    {
      "cell_type": "markdown",
      "metadata": {
        "id": "view-in-github",
        "colab_type": "text"
      },
      "source": [
        "<a href=\"https://colab.research.google.com/github/OswaldMG/PyE---PortafolioDeTrabajos/blob/main/PyE_Trabajos.ipynb\" target=\"_parent\"><img src=\"https://colab.research.google.com/assets/colab-badge.svg\" alt=\"Open In Colab\"/></a>"
      ]
    },
    {
      "cell_type": "code",
      "source": [
        "import pandas as pd\n",
        "\n",
        "data = [2,2,0,0,5,8,3,4,1,0,0,7,1,7,1,5,4,0,4,0,1,8,9,7,0,1,7,2,5,5,4,3,3,0,0,2,5,1,3,0,1,0,2,4,5,0,5,7,5,1]\n",
        "series=pd.Series(data)\n",
        "frequency_table = series.value_counts().sort_index()\n",
        "print(\"\\nTabla de Frecuencias:\\n\",frequency_table)\n",
        "\n",
        "frequency = series.value_counts()\n",
        "totalCount = len(series)\n",
        "relativeFreq = frequency / totalCount\n",
        "\n",
        "# Crear el DataFrame\n",
        "df = pd.DataFrame({'Frecuencia': frequency, 'Frecuencia Relativa': relative_frequency})\n",
        "# Ordenar el DataFrame por el valor (índice)\n",
        "df = df.sort_index()\n",
        "\n",
        "print(\"\\nDataFrame Ordenado:\\n\", df)\n",
        "\n"
      ],
      "metadata": {
        "id": "yoRwhYNIVcvN",
        "colab": {
          "base_uri": "https://localhost:8080/"
        },
        "outputId": "b1dfe8d4-881d-4883-8345-e77af06a737c"
      },
      "execution_count": null,
      "outputs": [
        {
          "output_type": "stream",
          "name": "stdout",
          "text": [
            "\n",
            "Tabla de Frecuencias:\n",
            " 0    12\n",
            "1     8\n",
            "2     5\n",
            "3     4\n",
            "4     5\n",
            "5     8\n",
            "7     5\n",
            "8     2\n",
            "9     1\n",
            "Name: count, dtype: int64\n",
            "\n",
            "DataFrame Ordenado:\n",
            "    Frecuencia  Frecuencia Relativa\n",
            "0          12                 0.24\n",
            "1           8                 0.16\n",
            "2           5                 0.10\n",
            "3           4                 0.08\n",
            "4           5                 0.10\n",
            "5           8                 0.16\n",
            "7           5                 0.10\n",
            "8           2                 0.04\n",
            "9           1                 0.02\n"
          ]
        }
      ]
    },
    {
      "cell_type": "code",
      "source": [
        "# prompt: ¿Cuantas personas se han enfermado al menos 1 dia?\n",
        "\n",
        "import pandas as pd\n",
        "import matplotlib.pyplot as pit\n",
        "\n",
        "data = [2,2,0,0,5,8,3,4,1,0,0,7,1,7,1,5,4,0,4,0,1,8,9,7,0,1,7,2,5,5,4,3,3,0,0,2,5,1,3,0,1,0,2,4,5,0,5,7,5,1]\n",
        "series=pd.Series(data)\n",
        "#print(series)\n",
        "frequency_table = series.value_counts().sort_index()\n",
        "#print(\"\\nTabla de Frecuencias:\\n\",frequency_table)\n",
        "\n",
        "# Number of people who got sick at least one day (excluding 0 days)\n",
        "sick_at_least_one_day = len(series) - frequency_table[0]\n",
        "print(f\"Number of people sick at least one day: {sick_at_least_one_day}\")"
      ],
      "metadata": {
        "colab": {
          "base_uri": "https://localhost:8080/"
        },
        "id": "Gx1PaWMdbC67",
        "outputId": "62f34f21-ff2b-4655-e80e-ea97b268c01e"
      },
      "execution_count": null,
      "outputs": [
        {
          "output_type": "stream",
          "name": "stdout",
          "text": [
            "Number of people sick at least one day: 38\n"
          ]
        }
      ]
    },
    {
      "cell_type": "code",
      "source": [
        "# prompt: ¿Cuantas personas se han enfermado de 3 a 5 dias?\n",
        "\n",
        "import pandas as pd\n",
        "\n",
        "data = [2,2,0,0,5,8,3,4,1,0,0,7,1,7,1,5,4,0,4,0,1,8,9,7,0,1,7,2,5,5,4,3,3,0,0,2,5,1,3,0,1,0,2,4,5,0,5,7,5,1]\n",
        "series = pd.Series(data)\n",
        "\n",
        "# Number of people who got sick between 3 and 5 days\n",
        "sick_3_to_5_days = series[(series >= 3) & (series <= 5)].count()\n",
        "print(f\"Number of people sick between 3 and 5 days: {sick_3_to_5_days}\")"
      ],
      "metadata": {
        "colab": {
          "base_uri": "https://localhost:8080/"
        },
        "id": "eB396Ze6bPQA",
        "outputId": "5fad2599-da0b-4711-c841-686404fe0978"
      },
      "execution_count": null,
      "outputs": [
        {
          "output_type": "stream",
          "name": "stdout",
          "text": [
            "Number of people sick between 3 and 5 days: 17\n"
          ]
        }
      ]
    },
    {
      "cell_type": "code",
      "source": [
        "# prompt: ¿Cuantas personas se han dado de baja mas de 5 dias?\n",
        "\n",
        "data = [2,2,0,0,5,8,3,4,1,0,0,7,1,7,1,5,4,0,4,0,1,8,9,7,0,1,7,2,5,5,4,3,3,0,0,2,5,1,3,0,1,0,2,4,5,0,5,7,5,1]\n",
        "series = pd.Series(data)\n",
        "\n",
        "# Number of people who have been discharged more than 5 days\n",
        "discharged_more_than_5_days = series[series > 5].count()\n",
        "print(f\"Number of people discharged more than 5 days: {discharged_more_than_5_days}\")"
      ],
      "metadata": {
        "id": "CeTLKRhZbex1"
      },
      "execution_count": null,
      "outputs": []
    },
    {
      "cell_type": "code",
      "source": [
        "import matplotlib.pyplot as plt\n",
        "plt.figure(figsize=(10, 6)) #Ajusta el tamaño del grafico si lo necesitas\n",
        "frequency_table.plot(kind='bar', color='violet')\n",
        "plt.title('Frecuencias De Los Datos')\n",
        "plt.xlabel('Valor')\n",
        "plt.ylabel('Frecuencia')\n",
        "plt.xticks(rotation=0) #Para que las etiquetas del eje x sean horizontales\n",
        "plt.show()\n"
      ],
      "metadata": {
        "colab": {
          "base_uri": "https://localhost:8080/",
          "height": 564
        },
        "id": "BwU0z4zKbwcS",
        "outputId": "cf928c57-45e2-4f8d-85b6-57a8d5fcba13"
      },
      "execution_count": null,
      "outputs": [
        {
          "output_type": "display_data",
          "data": {
            "text/plain": [
              "<Figure size 1000x600 with 1 Axes>"
            ],
            "image/png": "[encoded data removed]"
          },
          "metadata": {}
        }
      ]
    },
    {
      "cell_type": "markdown",
      "source": [
        "Fecha:"
      ],
      "metadata": {
        "id": "ln6k4BuAfWpr"
      }
    },
    {
      "cell_type": "markdown",
      "source": [
        "Fecha : **Martes 28 de Enero de 2025**\n",
        "\n",
        "\n"
      ],
      "metadata": {
        "id": "HQZKxcvHfaUK"
      }
    },
    {
      "cell_type": "code",
      "source": [
        "import pandas as pd\n",
        "import matplotlib.pyplot as plt\n",
        "\n",
        "# Definimos los datos corregidos\n",
        "data = {\n",
        "    \"Días\": list(range(10)),  # Convertimos los días en valores numéricos\n",
        "    \"Ventas\": [12, 8, 5, 4, 5, 8, 6, 5, 2, 1],  # Se agregó el dato faltante\n",
        "    \"Gastos\": [0.24, 0.16, 0.10, 0.08, 0.10, 0.16, 0.12, 0.10, 0.04, 0.02]  # Se agregó el dato faltante\n",
        "}\n",
        "\n",
        "df = pd.DataFrame(data)\n",
        "\n",
        "# Configuración del gráfico\n",
        "plt.figure(figsize=(7, 5))\n",
        "plt.plot(df[\"Días\"], df[\"Ventas\"], marker=\"o\", linestyle=\"--\", color=\"blue\", label=\"Ventas\")\n",
        "plt.plot(df[\"Días\"], df[\"Gastos\"], marker=\"o\", linestyle=\"-\", color=\"red\", label=\"Gastos\")\n",
        "\n",
        "# Personalización\n",
        "plt.title(\"Comparativa\")\n",
        "plt.xlabel(\"Día sin trabajo\")\n",
        "plt.ylabel(\"Frecuencia\")\n",
        "plt.legend()\n",
        "plt.grid(True)\n",
        "plt.xticks(df[\"Días\"])  # Asegura que todos los días aparezcan en el eje X\n",
        "plt.xticks(range(0, 10, 2))  # range(start, stop, step)\n",
        "\n",
        "# Mostrar gráfico\n",
        "plt.show()\n"
      ],
      "metadata": {
        "colab": {
          "base_uri": "https://localhost:8080/",
          "height": 488
        },
        "id": "FQlvyGbAo-7z",
        "outputId": "b5d918d2-7656-45ca-d2d2-1a6b1f9fcd63"
      },
      "execution_count": null,
      "outputs": [
        {
          "output_type": "display_data",
          "data": {
            "text/plain": [
              "<Figure size 700x500 with 1 Axes>"
            ],
            "image/png": "[encoded data removed]"
          },
          "metadata": {}
        }
      ]
    },
    {
      "cell_type": "code",
      "source": [
        "#lectura de archivo\n",
        "import pandas as pd\n",
        "from google.colab import drive\n",
        "drive.mount('/content/drive')\n",
        "\n",
        "import sys\n",
        "\n",
        "#Provide the full path to your excel file\n",
        "file_path='/content/drive/My Drive/Colab Notebooks/datos.xlsx'\n",
        "df=pd.read_excel(file_path, sheet_name='Hoja1')\n",
        "print(df)\n",
        "\n"
      ],
      "metadata": {
        "colab": {
          "base_uri": "https://localhost:8080/"
        },
        "id": "KgM2iG3AtDT9",
        "outputId": "504354b2-4f18-43c1-e045-3b33ebb7ff91"
      },
      "execution_count": null,
      "outputs": [
        {
          "output_type": "stream",
          "name": "stdout",
          "text": [
            "Mounted at /content/drive\n",
            "     Año Jugador  Puntaje\n",
            "0   1968       A      277\n",
            "1   1969       B      281\n",
            "2   1970       C      279\n",
            "3   1971       D      279\n",
            "4   1972       E      286\n",
            "5   1973       F      283\n",
            "6   1974       G      278\n",
            "7   1975       H      276\n",
            "8   1976       I      271\n",
            "9   1977       J      276\n",
            "10  1978       K      277\n",
            "11  1979       L      280\n",
            "12  1980       M      275\n",
            "13  1981       N      280\n",
            "14  1982       O      284\n",
            "15  1983       P      280\n",
            "16  1984       Q      277\n",
            "17  1985       R      282\n",
            "18  1986       S      279\n",
            "19  1987       T      285\n",
            "20  1988       U      281\n",
            "21  1989       V      283\n",
            "22  1990       W      278\n",
            "23  1991       X      277\n",
            "24  1992       Y      275\n",
            "25  1993       Z      277\n",
            "26  1994      AA      279\n",
            "27  1995      AB      274\n",
            "28  1996      AC      276\n",
            "29  1997      AD      270\n",
            "30  1998      AE      279\n",
            "31  1999      AF      280\n",
            "32  2000      AG      278\n",
            "33  2001      AH      272\n",
            "34  2002      AI      276\n",
            "35  2003      AJ      281\n",
            "36  2004      AK      279\n"
          ]
        }
      ]
    },
    {
      "cell_type": "code",
      "source": [
        "frequ_score=df['Puntaje'].value_counts().sort_index\n",
        "print(frequ_score)"
      ],
      "metadata": {
        "colab": {
          "base_uri": "https://localhost:8080/"
        },
        "id": "Walb_JygwNXE",
        "outputId": "5384d277-b20a-4de6-c615-2c060b59b98c"
      },
      "execution_count": null,
      "outputs": [
        {
          "output_type": "stream",
          "name": "stdout",
          "text": [
            "<bound method Series.sort_index of Puntaje\n",
            "279    6\n",
            "277    5\n",
            "276    4\n",
            "280    4\n",
            "281    3\n",
            "278    3\n",
            "283    2\n",
            "275    2\n",
            "286    1\n",
            "271    1\n",
            "284    1\n",
            "282    1\n",
            "285    1\n",
            "274    1\n",
            "270    1\n",
            "272    1\n",
            "Name: count, dtype: int64>\n"
          ]
        }
      ]
    },
    {
      "cell_type": "code",
      "source": [
        "#lectura de archivo\n",
        "import pandas as pd\n",
        "from google.colab import drive\n",
        "drive.mount('/content/drive')\n",
        "\n",
        "import sys\n",
        "\n",
        "#Provide the full path to your excel file\n",
        "file_path='/content/drive/My Drive/UniFolder/PyE/Pob_1900.xlsx'\n",
        "df=pd.read_excel(file_path, sheet_name='Hoja1')\n",
        "\n",
        "print(df)\n",
        "\n",
        "#Archivo rescatado para fines didacticos"
      ],
      "metadata": {
        "colab": {
          "base_uri": "https://localhost:8080/"
        },
        "id": "TbQNoXJEkzKa",
        "outputId": "c906cf98-0019-4463-f540-eb41d4c8d738"
      },
      "execution_count": null,
      "outputs": [
        {
          "output_type": "stream",
          "name": "stdout",
          "text": [
            "Mounted at /content/drive\n",
            "                     Estados  Hombres  Mujeres    Total\n",
            "0             Aguascalientes    50794    51622   102416\n",
            "1                       CDMX   258657   282859   541516\n",
            "2                    Durango   188800   181494   370294\n",
            "3                 Guanajuato   531024   530700  1061724\n",
            "4                    Hidalgo   293861   311190   605051\n",
            "5                     México   460779   473684   934463\n",
            "6                    Morelos    79430    80685   160115\n",
            "7                     Puebla   495571   525562  1021133\n",
            "8                  Querétaro   115090   117299   232389\n",
            "9            San Luis Potosí   281130   294302   575432\n",
            "10                  Tlaxcala    85568    86747   172315\n",
            "11                 Zacatecas   228691   233499   462190\n",
            "12                  Coahuila   153619   143319   296938\n",
            "13                 Chihuahua   169036   158748   327784\n",
            "14                Nuevo León   165980   161957   327937\n",
            "15                    Sonora   113691   107991   221682\n",
            "16                  Campeche    41375    45167    86542\n",
            "17                   Tabasco    80858    78976   159834\n",
            "18                Tamaulipas   111077   107871   218948\n",
            "19                  Veracruz   493495   487535   981030\n",
            "20                   Yucatán   153381   156271   309652\n",
            "21                    Colima    31620    33495    65115\n",
            "22                   Chiapas   176325   184474   360799\n",
            "23                  Guerrero   235672   243533   479205\n",
            "24                   Jalisco   572268   581623  1153891\n",
            "25                 Michoacán   469199   466609   935808\n",
            "26                    Oaxaca   468065   480568   948633\n",
            "27                   Sinaloa   146376   150325   296701\n",
            "28  Baja California D. Norte     4327     3256     7583\n",
            "29    Baja California D. Sur    21108    18933    40041\n",
            "30                     Tepic    75251    74847   150098\n"
          ]
        }
      ]
    },
    {
      "cell_type": "code",
      "source": [
        "#Definir los datos superior e inferior de los datos superiores\n",
        "lim_inf = df['Total'].min()\n",
        "lim_sup = df['Total'].max()\n",
        "\n",
        "print(f\"Limite Inferior: {lim_inf}\")\n",
        "print(f\"Limite Superior: {lim_sup}\")"
      ],
      "metadata": {
        "colab": {
          "base_uri": "https://localhost:8080/"
        },
        "id": "hs-lejjhmju4",
        "outputId": "16b09021-7989-4cc4-eeca-071a8bbf23a1"
      },
      "execution_count": null,
      "outputs": [
        {
          "output_type": "stream",
          "name": "stdout",
          "text": [
            "Limite Inferior: 7583\n",
            "Limite Superior: 1153891\n"
          ]
        }
      ]
    },
    {
      "cell_type": "code",
      "source": [
        "#Crear un intervalo en base a las medidas superiores e inferiores\n",
        "tam_intervalo= int ((lim_sup-lim_inf)/6)+9\n",
        "print(f\"Tamaño de Intervalo: {tam_intervalo}\")"
      ],
      "metadata": {
        "colab": {
          "base_uri": "https://localhost:8080/"
        },
        "id": "duyJ6LSdnWaf",
        "outputId": "0403498b-d852-4ed9-ded1-d9e95a9ba1cb"
      },
      "execution_count": null,
      "outputs": [
        {
          "output_type": "stream",
          "name": "stdout",
          "text": [
            "Tamaño de Intervalo: 191060\n"
          ]
        }
      ]
    },
    {
      "cell_type": "code",
      "source": [
        "#Identificar las clases/Rangos\n",
        "clases=[]\n",
        "\n",
        "lim_inf=0\n",
        "for i in range(6):\n",
        "  print(f\"Clase {i+1}: {lim_inf+i*tam_intervalo}-{lim_inf+(i+1)*tam_intervalo}\")\n",
        "#convertir los datos a histograma"
      ],
      "metadata": {
        "colab": {
          "base_uri": "https://localhost:8080/"
        },
        "id": "B-3iU_saollt",
        "outputId": "9614e774-9279-4c24-da39-c49384534de2"
      },
      "execution_count": null,
      "outputs": [
        {
          "output_type": "stream",
          "name": "stdout",
          "text": [
            "Clase 1: 0-191060\n",
            "Clase 2: 191060-382120\n",
            "Clase 3: 382120-573180\n",
            "Clase 4: 573180-764240\n",
            "Clase 5: 764240-955300\n",
            "Clase 6: 955300-1146360\n"
          ]
        }
      ]
    },
    {
      "cell_type": "code",
      "source": [
        "import pandas as pd\n",
        "import matplotlib.pyplot as plt\n",
        "from google.colab import drive\n",
        "\n",
        "# Montar Google Drive para acceder al archivo\n",
        "drive.mount('/content/drive')\n",
        "# Definir la ruta del archivo de datos\n",
        "file_path = '/content/drive/My Drive/UniFolder/PyE/Pob_1900.xlsx'\n",
        "# Cargar datos desde el archivo Excel\n",
        "df = pd.read_excel(file_path, sheet_name='Hoja1')\n",
        "print(df.head())  # Mostrar las primeras filas del DataFrame para verificar la carga\n",
        "\n",
        "# Definir los límites inferior y superior del rango\n",
        "lim_inf = df['Total'].min()\n",
        "lim_sup = df['Total'].max()\n",
        "print(f\"\\nLímite inferior: {lim_inf}\")\n",
        "print(f\"Límite superior: {lim_sup}\\n\")\n",
        "\n",
        "# Calcular el tamaño del intervalo\n",
        "num_clases = 6\n",
        "tamano_intervalo = (lim_sup - lim_inf) // num_clases\n",
        "print(f\"Tamaño de intervalo: {tamano_intervalo}\")\n",
        "\n",
        "# Calcular frecuencias para cada intervalo\n",
        "frecuencias = []\n",
        "rango_clases = []\n",
        "\n",
        "# Definir límites de cada clase\n",
        "for i in range(num_clases):\n",
        "    limite_inferior = lim_inf + i * tamano_intervalo\n",
        "    limite_superior = limite_inferior + tamano_intervalo\n",
        "\n",
        "    # Contar los estados dentro del rango actual\n",
        "    clase = len(df[(df['Total'] >= limite_inferior) & (df['Total'] < limite_superior)])\n",
        "    frecuencias.append(clase)\n",
        "\n",
        "    # Guardar el rango para la etiqueta del eje X\n",
        "    rango_clases.append(f'{limite_inferior} - {limite_superior}')\n",
        "\n",
        "    print(f\"Clase {i + 1}: {limite_inferior}\\t - {limite_superior}\\t --- {clase} estados\")\n",
        "\n",
        "# Crear histograma manualmente\n",
        "plt.figure(figsize=(10, 6))\n",
        "plt.bar(rango_clases, frecuencias, width=0.6, color='yellow', edgecolor='black')\n",
        "\n",
        "# Personalizar la gráfica\n",
        "plt.title('Histograma de Total de Personas en México (1900)', fontsize=14)\n",
        "plt.xlabel('Cantidad de personas por estado', fontsize=12)\n",
        "plt.ylabel('Frecuencia de estados', fontsize=12)\n",
        "plt.xticks(rotation=45)  # Rotar etiquetas del eje X para mejor legibilidad\n",
        "plt.grid(axis='y', linestyle='--', alpha=0.7)\n",
        "\n",
        "# Mostrar la gráfica\n",
        "plt.show()\n"
      ],
      "metadata": {
        "colab": {
          "base_uri": "https://localhost:8080/",
          "height": 853
        },
        "id": "yG3P76ZGzg9b",
        "outputId": "a2f0a649-ecf0-4692-c19b-c977276c72af"
      },
      "execution_count": null,
      "outputs": [
        {
          "output_type": "stream",
          "name": "stdout",
          "text": [
            "Drive already mounted at /content/drive; to attempt to forcibly remount, call drive.mount(\"/content/drive\", force_remount=True).\n",
            "          Estados  Hombres  Mujeres    Total\n",
            "0  Aguascalientes    50794    51622   102416\n",
            "1            CDMX   258657   282859   541516\n",
            "2         Durango   188800   181494   370294\n",
            "3      Guanajuato   531024   530700  1061724\n",
            "4         Hidalgo   293861   311190   605051\n",
            "\n",
            "Límite inferior: 7583\n",
            "Límite superior: 1153891\n",
            "\n",
            "Tamaño de intervalo: 191051\n",
            "Clase 1: 7583\t - 198634\t --- 9 estados\n",
            "Clase 2: 198634\t - 389685\t --- 10 estados\n",
            "Clase 3: 389685\t - 580736\t --- 4 estados\n",
            "Clase 4: 580736\t - 771787\t --- 1 estados\n",
            "Clase 5: 771787\t - 962838\t --- 3 estados\n",
            "Clase 6: 962838\t - 1153889\t --- 3 estados\n"
          ]
        },
        {
          "output_type": "display_data",
          "data": {
            "text/plain": [
              "<Figure size 1000x600 with 1 Axes>"
            ],
            "image/png": "[encoded data removed]"
          },
          "metadata": {}
        }
      ]
    },
    {
      "cell_type": "code",
      "source": [
        "import pandas as pd\n",
        "import matplotlib.pyplot as plt\n",
        "\n",
        "datos = [\n",
        "    24.2, 25, 22.7, 31, 30.5, 36, 28.6, 33, 25.5, 19, 32.0, 24,\n",
        "    28.6, 27, 26.5, 25, 25.3, 16, 26.0, 14, 24.4, 22, 24.8, 23,\n",
        "    20.6, 20, 25.1, 25, 21.4, 25, 23.7, 23, 23.9, 27, 25.2, 30,\n",
        "    27.4, 33, 28.3, 32, 28.8, 35, 26.6, 24\n",
        "]\n",
        "\n",
        "temperatura = []\n",
        "ndefect = []\n",
        "\n",
        "for i, value in enumerate(datos):\n",
        "    if i % 2 == 0:\n",
        "        ndefect.append(value)\n",
        "    else:\n",
        "        temperatura.append(value)\n",
        "\n",
        "print(f\"{'Temperatura'} {'PIezas defectuosas'}\")\n",
        "\n",
        "for i1, i2 in zip(ndefect,temperatura):\n",
        "    print(f\"{i1:<10} {i2:<10}\")\n",
        "\n",
        "\n",
        "tempVSndefect = pd.DataFrame({\n",
        "    'temperatura': temperatura,\n",
        "    'piezas defectuosas': ndefect\n",
        "})\n",
        "\n",
        "tempVSndefect.plot(kind='scatter', x='temperatura', y='piezas defectuosas', s=32, alpha=.8, marker='x')\n",
        "plt.plot(tempVSndefect['temperatura'], tempVSndefect['temperatura'], c='red')\n",
        "\n",
        "plt.show()"
      ],
      "metadata": {
        "colab": {
          "base_uri": "https://localhost:8080/",
          "height": 848
        },
        "id": "BEJmIxTRSS84",
        "outputId": "ec95fef5-8921-476d-9bf5-25d9bff80800"
      },
      "execution_count": null,
      "outputs": [
        {
          "output_type": "stream",
          "name": "stdout",
          "text": [
            "Temperatura PIezas defectuosas\n",
            "24.2       25        \n",
            "22.7       31        \n",
            "30.5       36        \n",
            "28.6       33        \n",
            "25.5       19        \n",
            "32.0       24        \n",
            "28.6       27        \n",
            "26.5       25        \n",
            "25.3       16        \n",
            "26.0       14        \n",
            "24.4       22        \n",
            "24.8       23        \n",
            "20.6       20        \n",
            "25.1       25        \n",
            "21.4       25        \n",
            "23.7       23        \n",
            "23.9       27        \n",
            "25.2       30        \n",
            "27.4       33        \n",
            "28.3       32        \n",
            "28.8       35        \n",
            "26.6       24        \n"
          ]
        },
        {
          "output_type": "display_data",
          "data": {
            "text/plain": [
              "<Figure size 640x480 with 1 Axes>"
            ],
            "image/png": "[encoded data removed]"
          },
          "metadata": {}
        }
      ]
    },
    {
      "cell_type": "code",
      "source": [
        "import numpy as np\n",
        "\n",
        "def stemplot(data,ndig):\n",
        "  #Ordena los datos\n",
        "  data_sorted=np.sort(data)\n",
        "\n",
        "  #Calcula la hoja (stem) y el tallo (leaf)\n",
        "  leaves={}\n",
        "  for num in data_sorted:\n",
        "    stem, leaf=divmod(int(num),ndig)\n",
        "    if stem not in leaves:\n",
        "      leaves[stem]=[]\n",
        "    leaves[stem].append(leaf)\n",
        "  #Imprime el grafico de hoja y tallo\n",
        "  for stem, leaf in leaves.items():\n",
        "    print(f\"{stem} | {' '.join(map(str,leaf))}\")\n",
        "\n",
        "data=[32,33,21,27,35,41,36,39,40,45,47,32,123]\n",
        "ndig=10\n",
        "stemplot(data,ndig)\n"
      ],
      "metadata": {
        "colab": {
          "base_uri": "https://localhost:8080/"
        },
        "id": "PCp0QbhytkGl",
        "outputId": "f66ea0b5-8ddd-4918-f1a8-c02af612537a"
      },
      "execution_count": null,
      "outputs": [
        {
          "output_type": "stream",
          "name": "stdout",
          "text": [
            "2 | 1 7\n",
            "3 | 2 2 3 5 6 9\n",
            "4 | 0 1 5 7\n",
            "12 | 3\n"
          ]
        }
      ]
    },
    {
      "cell_type": "code",
      "source": [
        "newData=[25800,14700,36900,78600,45000,13600,5400]\n",
        "ndig=1000\n",
        "stemplot(newData,ndig)"
      ],
      "metadata": {
        "colab": {
          "base_uri": "https://localhost:8080/"
        },
        "id": "fBB1VSf8ym8n",
        "outputId": "0edc8a59-4234-4992-8386-426424bf2fba"
      },
      "execution_count": null,
      "outputs": [
        {
          "output_type": "stream",
          "name": "stdout",
          "text": [
            "5 | 400\n",
            "13 | 600\n",
            "14 | 700\n",
            "25 | 800\n",
            "36 | 900\n",
            "45 | 0\n",
            "78 | 600\n"
          ]
        }
      ]
    },
    {
      "cell_type": "code",
      "source": [
        "import pandas as pd\n",
        "import matplotlib.pyplot as plt\n",
        "from google.colab import drive\n",
        "\n",
        "# Montar Google Drive para acceder al archivo\n",
        "drive.mount('/content/drive')\n",
        "# Definir la ruta del archivo de datos\n",
        "file_path = '/content/drive/My Drive/UniFolder/PyE/education-Succes.xlsx'\n",
        "\n",
        "# Cargar datos desde el archivo Excel y configurarlos\n",
        "df = pd.read_excel(file_path, sheet_name='education_career_success')\n",
        "colName=\"SAT_Score\"\n",
        "aislado=df[colName]\n",
        "casillas=3\n",
        "print(aislado.head(casillas))  # Mostrar las primeras filas del DataFrame para verificar la carga\n",
        "\n"
      ],
      "metadata": {
        "colab": {
          "base_uri": "https://localhost:8080/"
        },
        "id": "rk9zhg0YmpHS",
        "outputId": "3033e77b-ecea-43c4-ed7c-7de429393d76"
      },
      "execution_count": null,
      "outputs": [
        {
          "output_type": "stream",
          "name": "stdout",
          "text": [
            "Drive already mounted at /content/drive; to attempt to forcibly remount, call drive.mount(\"/content/drive\", force_remount=True).\n",
            "0    1052\n",
            "1    1211\n",
            "2    1193\n",
            "Name: SAT_Score, dtype: int64\n"
          ]
        }
      ]
    },
    {
      "cell_type": "code",
      "source": [
        "Cluster=aislado.head(casillas)\n",
        "Cluster=Cluster.sum()\n",
        "Cant=aislado.head(casillas).count()\n",
        "\n",
        "Media=Cluster/Cant\n",
        "print(f\"La media muestral es: \", Media)\n",
        "\n",
        "midCant=Cant/2\n",
        "\n",
        "if midCant%2==0:\n",
        "    mediana=(midCant+midCant+1)/2\n",
        "    print(f\"La mediana muestral es: \", mediana)\n",
        "else:\n",
        "    mediana=midCant-.5+1\n",
        "    print(f\"La mediana muestral es: \", mediana)\n",
        "\n",
        "desviacion=aislado.std()\n",
        "print(f\"La desviacion muestral es: \", desviacion)"
      ],
      "metadata": {
        "id": "dTciJyBRbPuL",
        "colab": {
          "base_uri": "https://localhost:8080/"
        },
        "outputId": "26f28ab6-5c39-4873-b528-445be5cc9719"
      },
      "execution_count": null,
      "outputs": [
        {
          "output_type": "stream",
          "name": "stdout",
          "text": [
            "La media muestral es:  1152.0\n",
            "La mediana muestral es:  2.0\n",
            "La desviacion muestral es:  203.22895408271802\n"
          ]
        }
      ]
    },
    {
      "cell_type": "code",
      "source": [
        "import numpy as np\n",
        "import pandas as pd\n",
        "import matplotlib.pyplot as plt\n",
        "\n",
        "def percentil(p, data):\n",
        "  dataSorted=np.sort(data)\n",
        "  n=len(dataSorted)\n",
        "  percentil=(p/100)*(n+1)\n",
        "  print(f\"El percentil {p} es: \", percentil)\n",
        "\n",
        "\n",
        "canData=int(input(\"Cuantos datos quieres ingresar en el arreglo: \"))\n",
        "Data=[]\n",
        "\n",
        "print(\"Ingresa los datos en el arreglo\")\n",
        "for i in range(canData):\n",
        "  num=int(input())\n",
        "  Data.append(num)\n",
        "print(f\"\\nSu array es este\", Data)\n",
        "\n",
        "percentil(4, Data)\n",
        "\n"
      ],
      "metadata": {
        "colab": {
          "base_uri": "https://localhost:8080/"
        },
        "id": "KPgrwfIn4w_8",
        "outputId": "1dcacc95-759a-4e28-ba8d-91eeccf2f6f6"
      },
      "execution_count": 2,
      "outputs": [
        {
          "output_type": "stream",
          "name": "stdout",
          "text": [
            "Cuantos datos quieres ingresar en el arreglo: 6\n",
            "Ingresa los datos en el arreglo\n",
            "5\n",
            "2\n",
            "6\n",
            "9\n",
            "10\n",
            "4\n",
            "\n",
            "Su array es este [5, 2, 6, 9, 10, 4]\n",
            "El percentil 4 es:  0.28\n"
          ]
        }
      ]
    }
  ]
}